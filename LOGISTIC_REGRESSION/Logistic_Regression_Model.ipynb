{
 "cells": [
  {
   "cell_type": "code",
   "execution_count": 1,
   "metadata": {},
   "outputs": [],
   "source": [
    "import numpy as np\n",
    "import pandas as pd\n",
    "import matplotlib as plt\n",
    "import seaborn as sns"
   ]
  },
  {
   "cell_type": "code",
   "execution_count": 2,
   "metadata": {},
   "outputs": [],
   "source": [
    "df = pd.read_csv(\"Titanic.csv\")"
   ]
  },
  {
   "cell_type": "code",
   "execution_count": 3,
   "metadata": {},
   "outputs": [
    {
     "name": "stdout",
     "output_type": "stream",
     "text": [
      "   Passengerid   Age     Fare  Sex  sibsp  zero  zero.1  zero.2  zero.3  \\\n",
      "0            1  22.0   7.2500    0      1     0       0       0       0   \n",
      "1            2  38.0  71.2833    1      1     0       0       0       0   \n",
      "2            3  26.0   7.9250    1      0     0       0       0       0   \n",
      "3            4  35.0  53.1000    1      1     0       0       0       0   \n",
      "4            5  35.0   8.0500    0      0     0       0       0       0   \n",
      "\n",
      "   zero.4  ...  zero.12  zero.13  zero.14  Pclass  zero.15  zero.16  Embarked  \\\n",
      "0       0  ...        0        0        0       3        0        0       2.0   \n",
      "1       0  ...        0        0        0       1        0        0       0.0   \n",
      "2       0  ...        0        0        0       3        0        0       2.0   \n",
      "3       0  ...        0        0        0       1        0        0       2.0   \n",
      "4       0  ...        0        0        0       3        0        0       2.0   \n",
      "\n",
      "   zero.17  zero.18  2urvived  \n",
      "0        0        0         0  \n",
      "1        0        0         1  \n",
      "2        0        0         1  \n",
      "3        0        0         1  \n",
      "4        0        0         0  \n",
      "\n",
      "[5 rows x 28 columns]\n"
     ]
    }
   ],
   "source": [
    "print(df.head())"
   ]
  },
  {
   "cell_type": "code",
   "execution_count": 4,
   "metadata": {},
   "outputs": [
    {
     "name": "stdout",
     "output_type": "stream",
     "text": [
      "<class 'pandas.core.frame.DataFrame'>\n",
      "RangeIndex: 1309 entries, 0 to 1308\n",
      "Data columns (total 28 columns):\n",
      " #   Column       Non-Null Count  Dtype  \n",
      "---  ------       --------------  -----  \n",
      " 0   Passengerid  1309 non-null   int64  \n",
      " 1   Age          1309 non-null   float64\n",
      " 2   Fare         1309 non-null   float64\n",
      " 3   Sex          1309 non-null   int64  \n",
      " 4   sibsp        1309 non-null   int64  \n",
      " 5   zero         1309 non-null   int64  \n",
      " 6   zero.1       1309 non-null   int64  \n",
      " 7   zero.2       1309 non-null   int64  \n",
      " 8   zero.3       1309 non-null   int64  \n",
      " 9   zero.4       1309 non-null   int64  \n",
      " 10  zero.5       1309 non-null   int64  \n",
      " 11  zero.6       1309 non-null   int64  \n",
      " 12  Parch        1309 non-null   int64  \n",
      " 13  zero.7       1309 non-null   int64  \n",
      " 14  zero.8       1309 non-null   int64  \n",
      " 15  zero.9       1309 non-null   int64  \n",
      " 16  zero.10      1309 non-null   int64  \n",
      " 17  zero.11      1309 non-null   int64  \n",
      " 18  zero.12      1309 non-null   int64  \n",
      " 19  zero.13      1309 non-null   int64  \n",
      " 20  zero.14      1309 non-null   int64  \n",
      " 21  Pclass       1309 non-null   int64  \n",
      " 22  zero.15      1309 non-null   int64  \n",
      " 23  zero.16      1309 non-null   int64  \n",
      " 24  Embarked     1307 non-null   float64\n",
      " 25  zero.17      1309 non-null   int64  \n",
      " 26  zero.18      1309 non-null   int64  \n",
      " 27  2urvived     1309 non-null   int64  \n",
      "dtypes: float64(3), int64(25)\n",
      "memory usage: 286.5 KB\n",
      "None\n"
     ]
    }
   ],
   "source": [
    "print(df.info())"
   ]
  },
  {
   "cell_type": "code",
   "execution_count": 5,
   "metadata": {},
   "outputs": [
    {
     "name": "stdout",
     "output_type": "stream",
     "text": [
      "       Passengerid          Age         Fare          Sex        sibsp  \\\n",
      "count  1309.000000  1309.000000  1309.000000  1309.000000  1309.000000   \n",
      "mean    655.000000    29.503186    33.281086     0.355997     0.498854   \n",
      "std     378.020061    12.905241    51.741500     0.478997     1.041658   \n",
      "min       1.000000     0.170000     0.000000     0.000000     0.000000   \n",
      "25%     328.000000    22.000000     7.895800     0.000000     0.000000   \n",
      "50%     655.000000    28.000000    14.454200     0.000000     0.000000   \n",
      "75%     982.000000    35.000000    31.275000     1.000000     1.000000   \n",
      "max    1309.000000    80.000000   512.329200     1.000000     8.000000   \n",
      "\n",
      "         zero  zero.1  zero.2  zero.3  zero.4  ...  zero.12  zero.13  zero.14  \\\n",
      "count  1309.0  1309.0  1309.0  1309.0  1309.0  ...   1309.0   1309.0   1309.0   \n",
      "mean      0.0     0.0     0.0     0.0     0.0  ...      0.0      0.0      0.0   \n",
      "std       0.0     0.0     0.0     0.0     0.0  ...      0.0      0.0      0.0   \n",
      "min       0.0     0.0     0.0     0.0     0.0  ...      0.0      0.0      0.0   \n",
      "25%       0.0     0.0     0.0     0.0     0.0  ...      0.0      0.0      0.0   \n",
      "50%       0.0     0.0     0.0     0.0     0.0  ...      0.0      0.0      0.0   \n",
      "75%       0.0     0.0     0.0     0.0     0.0  ...      0.0      0.0      0.0   \n",
      "max       0.0     0.0     0.0     0.0     0.0  ...      0.0      0.0      0.0   \n",
      "\n",
      "            Pclass  zero.15  zero.16     Embarked  zero.17  zero.18  \\\n",
      "count  1309.000000   1309.0   1309.0  1307.000000   1309.0   1309.0   \n",
      "mean      2.294882      0.0      0.0     1.492731      0.0      0.0   \n",
      "std       0.837836      0.0      0.0     0.814626      0.0      0.0   \n",
      "min       1.000000      0.0      0.0     0.000000      0.0      0.0   \n",
      "25%       2.000000      0.0      0.0     1.000000      0.0      0.0   \n",
      "50%       3.000000      0.0      0.0     2.000000      0.0      0.0   \n",
      "75%       3.000000      0.0      0.0     2.000000      0.0      0.0   \n",
      "max       3.000000      0.0      0.0     2.000000      0.0      0.0   \n",
      "\n",
      "          2urvived  \n",
      "count  1309.000000  \n",
      "mean      0.261268  \n",
      "std       0.439494  \n",
      "min       0.000000  \n",
      "25%       0.000000  \n",
      "50%       0.000000  \n",
      "75%       1.000000  \n",
      "max       1.000000  \n",
      "\n",
      "[8 rows x 28 columns]\n"
     ]
    }
   ],
   "source": [
    "print(df.describe())"
   ]
  },
  {
   "cell_type": "code",
   "execution_count": 6,
   "metadata": {},
   "outputs": [],
   "source": [
    "df = df.iloc[:, list(range(1, 5)) + [12, 21, 24, -1]]\n",
    "df = df.rename(columns={\"2urvived\": \"Survived\"})"
   ]
  },
  {
   "cell_type": "code",
   "execution_count": 7,
   "metadata": {},
   "outputs": [
    {
     "data": {
      "text/plain": [
       "Age         0\n",
       "Fare        0\n",
       "Sex         0\n",
       "sibsp       0\n",
       "Parch       0\n",
       "Pclass      0\n",
       "Embarked    2\n",
       "Survived    0\n",
       "dtype: int64"
      ]
     },
     "execution_count": 7,
     "metadata": {},
     "output_type": "execute_result"
    }
   ],
   "source": [
    "df.isnull().sum()"
   ]
  },
  {
   "cell_type": "code",
   "execution_count": 8,
   "metadata": {},
   "outputs": [],
   "source": [
    "df = df.dropna()"
   ]
  },
  {
   "cell_type": "code",
   "execution_count": 9,
   "metadata": {},
   "outputs": [
    {
     "data": {
      "text/plain": [
       "Age         0\n",
       "Fare        0\n",
       "Sex         0\n",
       "sibsp       0\n",
       "Parch       0\n",
       "Pclass      0\n",
       "Embarked    0\n",
       "Survived    0\n",
       "dtype: int64"
      ]
     },
     "execution_count": 9,
     "metadata": {},
     "output_type": "execute_result"
    }
   ],
   "source": [
    "df.isnull().sum()"
   ]
  },
  {
   "cell_type": "code",
   "execution_count": 10,
   "metadata": {},
   "outputs": [
    {
     "data": {
      "text/plain": [
       "<Axes: >"
      ]
     },
     "execution_count": 10,
     "metadata": {},
     "output_type": "execute_result"
    },
    {
     "data": {
      "image/png": "[encoded data removed]",
      "text/plain": [
       "<Figure size 640x480 with 2 Axes>"
      ]
     },
     "metadata": {},
     "output_type": "display_data"
    }
   ],
   "source": [
    "sns.heatmap(df.corr(), annot=True, vmin=-1, vmax=1, annot_kws=dict(fontsize=9))"
   ]
  },
  {
   "cell_type": "code",
   "execution_count": 11,
   "metadata": {},
   "outputs": [
    {
     "name": "stdout",
     "output_type": "stream",
     "text": [
      "    Age     Fare  Sex  sibsp  Parch  Pclass  Embarked  Survived\n",
      "0  22.0   7.2500    0      1      0       3       2.0         0\n",
      "1  38.0  71.2833    1      1      0       1       0.0         1\n",
      "2  26.0   7.9250    1      0      0       3       2.0         1\n",
      "3  35.0  53.1000    1      1      0       1       2.0         1\n",
      "4  35.0   8.0500    0      0      0       3       2.0         0\n"
     ]
    }
   ],
   "source": [
    "print(df.head())"
   ]
  },
  {
   "cell_type": "code",
   "execution_count": 12,
   "metadata": {},
   "outputs": [
    {
     "name": "stdout",
     "output_type": "stream",
     "text": [
      "<class 'pandas.core.frame.DataFrame'>\n",
      "Index: 1307 entries, 0 to 1308\n",
      "Data columns (total 8 columns):\n",
      " #   Column    Non-Null Count  Dtype  \n",
      "---  ------    --------------  -----  \n",
      " 0   Age       1307 non-null   float64\n",
      " 1   Fare      1307 non-null   float64\n",
      " 2   Sex       1307 non-null   int64  \n",
      " 3   sibsp     1307 non-null   int64  \n",
      " 4   Parch     1307 non-null   int64  \n",
      " 5   Pclass    1307 non-null   int64  \n",
      " 6   Embarked  1307 non-null   float64\n",
      " 7   Survived  1307 non-null   int64  \n",
      "dtypes: float64(3), int64(5)\n",
      "memory usage: 91.9 KB\n",
      "None\n"
     ]
    }
   ],
   "source": [
    "print(df.info())"
   ]
  },
  {
   "cell_type": "code",
   "execution_count": 13,
   "metadata": {},
   "outputs": [],
   "source": [
    "X = df.iloc[:, [1, 2, 5, 6]].values.reshape(-1, 4)\n",
    "y = df.iloc[:, -1].values.reshape(-1, 1)"
   ]
  },
  {
   "cell_type": "code",
   "execution_count": 14,
   "metadata": {},
   "outputs": [],
   "source": [
    "from sklearn.preprocessing import StandardScaler\n",
    "standard_scaler = StandardScaler()\n",
    "X = standard_scaler.fit_transform(X)"
   ]
  },
  {
   "cell_type": "code",
   "execution_count": 15,
   "metadata": {},
   "outputs": [],
   "source": [
    "from sklearn.model_selection import train_test_split\n",
    "X_train, X_test, y_train, y_test = train_test_split(X, y, test_size=0.2, random_state=0)"
   ]
  },
  {
   "cell_type": "code",
   "execution_count": 16,
   "metadata": {},
   "outputs": [],
   "source": [
    "# Sigmoid function\n",
    "def sigmoid(z):\n",
    "    return 1 / (1 + np.exp(-z))"
   ]
  },
  {
   "cell_type": "code",
   "execution_count": 17,
   "metadata": {},
   "outputs": [],
   "source": [
    "# Cost function (Binary Cross-Entropy)\n",
    "def compute_cost(X, y, theta):\n",
    "    m = len(y)\n",
    "    h = sigmoid(X.dot(theta))\n",
    "    cost = -(1/m) * np.sum(y * np.log(h) + (1 - y) * np.log(1 - h))\n",
    "    return cost"
   ]
  },
  {
   "cell_type": "code",
   "execution_count": 18,
   "metadata": {},
   "outputs": [],
   "source": [
    "# Gradient Descent function\n",
    "def gradient_descent(X, y, theta, alpha, num_iterations):\n",
    "    m = len(y)\n",
    "    cost_history = []\n",
    "\n",
    "    for i in range(num_iterations):\n",
    "        gradient = (1/m) * X.T.dot(sigmoid(X.dot(theta)) - y)\n",
    "        theta = theta - alpha * gradient\n",
    "        cost = compute_cost(X, y, theta)\n",
    "        cost_history.append(cost)\n",
    "\n",
    "        # Optionally, you can print the cost to monitor convergence\n",
    "        # if i % 100 == 0:\n",
    "        #     print(f\"Iteration {i}: Cost {cost}\")\n",
    "\n",
    "    return theta, cost_history"
   ]
  },
  {
   "cell_type": "code",
   "execution_count": 19,
   "metadata": {},
   "outputs": [],
   "source": [
    "X_b = np.c_[np.ones((len(X_train), 1)), X_train]\n",
    "\n",
    "# Initialize parameters\n",
    "theta = np.zeros((X_b.shape[1], 1))\n",
    "alpha = 0.0001  # Learning rate\n",
    "num_iterations = 100000"
   ]
  },
  {
   "cell_type": "code",
   "execution_count": 20,
   "metadata": {},
   "outputs": [
    {
     "name": "stdout",
     "output_type": "stream",
     "text": [
      "\n",
      "Optimized Theta: [[-0.9734719 ]\n",
      " [ 0.07392734]\n",
      " [ 0.69258399]\n",
      " [-0.32246556]\n",
      " [-0.0356533 ]]\n",
      "Final Cost: 0.4827112298708406\n"
     ]
    }
   ],
   "source": [
    "# Perform Gradient Descent\n",
    "theta, cost_history = gradient_descent(X_b, y_train, theta, alpha, num_iterations)\n",
    "\n",
    "print(\"\\nOptimized Theta:\", theta)\n",
    "print(\"Final Cost:\", cost_history[-1])"
   ]
  },
  {
   "cell_type": "code",
   "execution_count": 21,
   "metadata": {},
   "outputs": [],
   "source": [
    "X_test_b = np.c_[np.ones((len(X_test), 1)), X_test]\n",
    "y_pred = X_test_b.dot(theta)\n",
    "\n",
    "threshold = 0.5\n",
    "y_pred = (y_pred >= threshold).astype(int)"
   ]
  },
  {
   "cell_type": "code",
   "execution_count": 22,
   "metadata": {},
   "outputs": [
    {
     "name": "stdout",
     "output_type": "stream",
     "text": [
      "accuracy decisionTree: 0.767\n",
      "precision decisionTree: 0.643\n",
      "recall decisionTree: 0.261\n",
      "f1-score decisionTree : 0.371\n"
     ]
    }
   ],
   "source": [
    "from sklearn.metrics import accuracy_score, precision_score, recall_score, f1_score # metric đánh giá\n",
    "\n",
    "accuracy = accuracy_score(y_test, y_pred)\n",
    "precision = precision_score(y_test, y_pred) # TP/(TP + FP) --> độ chính xác trên class đấy cao\n",
    "recall = recall_score(y_test, y_pred) # TP/(TP + FN) --> không bị lẫn sang class\n",
    "f1 = f1_score(y_test, y_pred) # f1 = 2 * p * r/(p + r) --> chỉ số trung hòa\n",
    "\n",
    "print('accuracy decisionTree: %.3f' %accuracy)\n",
    "print('precision decisionTree: %.3f' %precision)\n",
    "print('recall decisionTree: %.3f' %recall)\n",
    "print('f1-score decisionTree : %.3f' %f1)"
   ]
  },
  {
   "cell_type": "code",
   "execution_count": 23,
   "metadata": {},
   "outputs": [],
   "source": [
    "from sklearn.linear_model import LogisticRegression\n",
    "model = LogisticRegression()\n",
    "\n",
    "y_train = y_train.ravel()\n",
    "y_test = y_test.ravel()\n",
    "\n",
    "model.fit(X_train, y_train)\n",
    "\n",
    "y_pred = model.predict(X_test)"
   ]
  },
  {
   "cell_type": "code",
   "execution_count": 24,
   "metadata": {},
   "outputs": [
    {
     "name": "stdout",
     "output_type": "stream",
     "text": [
      "accuracy decisionTree: 0.794\n",
      "precision decisionTree: 0.627\n",
      "recall decisionTree: 0.536\n",
      "f1-score decisionTree : 0.578\n"
     ]
    }
   ],
   "source": [
    "accuracy = accuracy_score(y_test, y_pred)\n",
    "precision = precision_score(y_test, y_pred) # TP/(TP + FP) --> độ chính xác trên class đấy cao\n",
    "recall = recall_score(y_test, y_pred) # TP/(TP + FN) --> không bị lẫn sang class\n",
    "f1 = f1_score(y_test, y_pred) # f1 = 2 * p * r/(p + r) --> chỉ số trung hòa\n",
    "\n",
    "print('accuracy decisionTree: %.3f' %accuracy)\n",
    "print('precision decisionTree: %.3f' %precision)\n",
    "print('recall decisionTree: %.3f' %recall)\n",
    "print('f1-score decisionTree : %.3f' %f1)"
   ]
  }
 ],
 "metadata": {
  "kernelspec": {
   "display_name": ".venv",
   "language": "python",
   "name": "python3"
  },
  "language_info": {
   "codemirror_mode": {
    "name": "ipython",
    "version": 3
   },
   "file_extension": ".py",
   "mimetype": "text/x-python",
   "name": "python",
   "nbconvert_exporter": "python",
   "pygments_lexer": "ipython3",
   "version": "3.12.4"
  }
 },
 "nbformat": 4,
 "nbformat_minor": 2
}
